{
 "cells": [
  {
   "cell_type": "markdown",
   "metadata": {},
   "source": [
    "# Storytelling: Férias Família "
   ]
  },
  {
   "cell_type": "code",
   "execution_count": 41,
   "metadata": {},
   "outputs": [],
   "source": [
    "#Importando bibliotecas\n",
    "%matplotlib inline\n",
    "import pandas            as pd\n",
    "import matplotlib.pyplot as plt\n",
    "import seaborn           as sns\n",
    "import chardet"
   ]
  },
  {
   "cell_type": "code",
   "execution_count": 42,
   "metadata": {},
   "outputs": [
    {
     "name": "stdout",
     "output_type": "stream",
     "text": [
      "ISO-8859-1\n"
     ]
    }
   ],
   "source": [
    "# Detectando encoding do csv\n",
    "with open('buscas.csv', 'rb') as f:\n",
    "    enco = chardet.detect(f.readline())\n",
    "print(enco['encoding'])"
   ]
  },
  {
   "cell_type": "code",
   "execution_count": 43,
   "metadata": {},
   "outputs": [],
   "source": [
    "#Colunas do arquivo\n",
    "names_col = [   'id',\n",
    "                'idusers',\n",
    "                'idsearch',\n",
    "                'companhia_aerea',\n",
    "                'tipo_de_voo',\n",
    "                'aeroporto_ida',\n",
    "                'aeroporto_volta',\n",
    "                'data_ida',\n",
    "                'data_volta',\n",
    "                'dias_entre_a_viagem',\n",
    "                'qtd_adultos',\n",
    "                'qtd_criancas',\n",
    "                'qtd_bebes',\n",
    "                'pais_ida',\n",
    "                'pais_volta',\n",
    "                'voo_internacional',\n",
    "                'direcao',\n",
    "                'classe',\n",
    "                'data_busca',\n",
    "                'data_inicio_buscador',\n",
    "                'data_fim_buscador',\n",
    "                'data_recebimento_busca',\n",
    "                'diff_segundos_entre_inicio_e_fim_da_busca',\n",
    "                'diff_segundos_entre_fim_da_busca_e_recebimento',\n",
    "                'qtd_voos',\n",
    "                'qtd_voos_recebidos',\n",
    "                'qtd_melhores_precos_nas_cias',\n",
    "                'qtd_melhores_precos_na_mm',\n",
    "                'mais_barato_na_mm_ida',\n",
    "                'mais_barato_na_mm_volta',\n",
    "                'nome_aeroporto_ida',\n",
    "                'codinome_aeroporto_ida',\n",
    "                'combinacao_aeroporto_ida',\n",
    "                'grupo_aeroporto_ida',\n",
    "                'nome_aeroporto_volta',\n",
    "                'codinome_aeroporto_volta',\n",
    "                'combinacao_aeroporto_volta',\n",
    "                'grupo_aeroporto_volta'\n",
    "            ]\n",
    "\n",
    "#Importando dados\n",
    "buscas = pd.read_csv('buscas.csv', delimiter=';',header=None, names=names_col,encoding= 'iso-8859-1', nrows = 10000)"
   ]
  },
  {
   "cell_type": "markdown",
   "metadata": {},
   "source": [
    "# Retirando viagens sem crianças"
   ]
  },
  {
   "cell_type": "code",
   "execution_count": 44,
   "metadata": {},
   "outputs": [],
   "source": [
    "#Considerando qtd_criancas > 0\n",
    "buscas = buscas.loc[(buscas['qtd_criancas'] > 0)] "
   ]
  },
  {
   "cell_type": "markdown",
   "metadata": {},
   "source": [
    "# Simples gráfico sobre a ideia"
   ]
  },
  {
   "cell_type": "code",
   "execution_count": 49,
   "metadata": {},
   "outputs": [
    {
     "data": {
      "text/plain": [
       "<matplotlib.axes._subplots.AxesSubplot at 0x982f30>"
      ]
     },
     "execution_count": 49,
     "metadata": {},
     "output_type": "execute_result"
    },
    {
     "data": {
      "image/png": "[encoded data removed]",
      "text/plain": [
       "<Figure size 432x288 with 1 Axes>"
      ]
     },
     "metadata": {},
     "output_type": "display_data"
    }
   ],
   "source": [
    "#Exibe gráfico\n",
    "buscas[\"pais_volta\"].value_counts().plot.bar(title=\"Volume de viagens por país\")"
   ]
  }
 ],
 "metadata": {
  "kernelspec": {
   "display_name": "Python 3",
   "language": "python",
   "name": "python3"
  },
  "language_info": {
   "codemirror_mode": {
    "name": "ipython",
    "version": 3
   },
   "file_extension": ".py",
   "mimetype": "text/x-python",
   "name": "python",
   "nbconvert_exporter": "python",
   "pygments_lexer": "ipython3",
   "version": "3.6.5"
  }
 },
 "nbformat": 4,
 "nbformat_minor": 2
}
